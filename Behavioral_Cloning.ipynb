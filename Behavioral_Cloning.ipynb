{
 "cells": [
  {
   "cell_type": "code",
   "execution_count": 1,
   "metadata": {},
   "outputs": [
    {
     "name": "stderr",
     "output_type": "stream",
     "text": [
      "Using TensorFlow backend.\n"
     ]
    }
   ],
   "source": [
    "from train import train_cnn\n",
    "from train import plot_loss\n",
    "from visualization import show, predict_image\n",
    "from visualization import read_preview_images\n",
    "import cv2, csv\n",
    "import numpy as np\n"
   ]
  },
  {
   "cell_type": "code",
   "execution_count": 5,
   "metadata": {},
   "outputs": [
    {
     "name": "stderr",
     "output_type": "stream",
     "text": [
      "/home/carnd/SelfDrivingCarND-Proj4/train.py:46: UserWarning: Update your `Conv2D` call to the Keras 2 API: `Conv2D(24, (5, 5), name=\"conv1\", activation=\"relu\", strides=(2, 2))`\n",
      "  model.add(Conv2D(24, (5, 5), subsample=(2,2), activation='relu',name='conv1'))\n",
      "/home/carnd/SelfDrivingCarND-Proj4/train.py:47: UserWarning: Update your `Conv2D` call to the Keras 2 API: `Conv2D(36, (5, 5), name=\"conv2\", activation=\"relu\", strides=(2, 2))`\n",
      "  model.add(Conv2D(36, (5, 5), subsample=(2,2), activation='relu', name='conv2'))\n",
      "/home/carnd/SelfDrivingCarND-Proj4/train.py:48: UserWarning: Update your `Conv2D` call to the Keras 2 API: `Conv2D(48, (5, 5), name=\"conv3\", activation=\"relu\", strides=(2, 2))`\n",
      "  model.add(Conv2D(48, (5, 5), subsample=(2,2), activation='relu', name='conv3'))\n"
     ]
    },
    {
     "name": "stdout",
     "output_type": "stream",
     "text": [
      "Epoch 1/5\n",
      "43/42 [==============================] - 72s 2s/step - loss: 0.0240 - val_loss: 0.0171\n",
      "Epoch 2/5\n",
      "43/42 [==============================] - 69s 2s/step - loss: 0.0165 - val_loss: 0.0157\n",
      "Epoch 3/5\n",
      "43/42 [==============================] - 69s 2s/step - loss: 0.0155 - val_loss: 0.0146\n",
      "Epoch 4/5\n",
      "43/42 [==============================] - 69s 2s/step - loss: 0.0148 - val_loss: 0.0140\n",
      "Epoch 5/5\n",
      "43/42 [==============================] - 69s 2s/step - loss: 0.0140 - val_loss: 0.0140\n",
      "dict_keys(['val_loss', 'loss'])\n"
     ]
    },
    {
     "data": {
      "image/png": "[encoded data removed]",
      "text/plain": [
       "<matplotlib.figure.Figure at 0x7f6ceb1390f0>"
      ]
     },
     "metadata": {},
     "output_type": "display_data"
    }
   ],
   "source": [
    "history_object = train_cnn(\"model_norm_255_no_side_flip_more_steps.h5\")\n",
    "plot_loss(history_object,\"model_norm_255_no_side_flip_more_steps.h5\")"
   ]
  },
  {
   "cell_type": "code",
   "execution_count": 3,
   "metadata": {},
   "outputs": [],
   "source": [
    "#img_path = 'train_data/IMG/'\n",
    "#img_name = 'center_2018_11_05_20_43_17_113.jpg'\n",
    "#img = cv2.imread(img_path + img_name)\n",
    "#img = img / 127.0 - 1\n",
    "#cv2.imwrite(\"test.jpg\", image)\n",
    "#predict_image(img, img_name, \"model_norm_127_no_side_flip.h5\", \"crop\")"
   ]
  },
  {
   "cell_type": "code",
   "execution_count": null,
   "metadata": {},
   "outputs": [],
   "source": [
    "norm, out_norm=show()"
   ]
  },
  {
   "cell_type": "code",
   "execution_count": null,
   "metadata": {},
   "outputs": [],
   "source": [
    "#from keras.utils import plot_model\n",
    "#plot_model(model, to_file='model.png')"
   ]
  },
  {
   "cell_type": "code",
   "execution_count": null,
   "metadata": {},
   "outputs": [],
   "source": []
  }
 ],
 "metadata": {
  "kernelspec": {
   "display_name": "Python 3",
   "language": "python",
   "name": "python3"
  },
  "language_info": {
   "codemirror_mode": {
    "name": "ipython",
    "version": 3
   },
   "file_extension": ".py",
   "mimetype": "text/x-python",
   "name": "python",
   "nbconvert_exporter": "python",
   "pygments_lexer": "ipython3",
   "version": "3.5.2"
  },
  "widgets": {
   "state": {},
   "version": "1.1.2"
  }
 },
 "nbformat": 4,
 "nbformat_minor": 2
}
