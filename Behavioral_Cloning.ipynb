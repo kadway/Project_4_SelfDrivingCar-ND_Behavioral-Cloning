{
 "cells": [
  {
   "cell_type": "code",
   "execution_count": 1,
   "metadata": {},
   "outputs": [
    {
     "name": "stderr",
     "output_type": "stream",
     "text": [
      "Using TensorFlow backend.\n"
     ]
    }
   ],
   "source": [
    "from model import train_cnn, plot_loss, increase_brightness, convert_RGB\n",
    "from visualization import read_preview_images, show_lambda_crop_layers,  predict_layer_output\n",
    "import cv2, csv\n",
    "import numpy as np\n",
    "from keras.models import Model\n",
    "from keras.models import load_model\n",
    "import pickle\n",
    "import matplotlib.pyplot as plt\n",
    "%matplotlib inline"
   ]
  },
  {
   "cell_type": "markdown",
   "metadata": {},
   "source": [
    "## Train model"
   ]
  },
  {
   "cell_type": "code",
   "execution_count": 2,
   "metadata": {},
   "outputs": [
    {
     "name": "stdout",
     "output_type": "stream",
     "text": [
      "Training samples:  40240\n",
      "Validation samples:  7545\n",
      "\n"
     ]
    },
    {
     "name": "stderr",
     "output_type": "stream",
     "text": [
      "/home/carnd/SelfDrivingCarND-Proj4/model.py:110: UserWarning: Update your `Conv2D` call to the Keras 2 API: `Conv2D(48, (5, 5), activation=\"relu\", name=\"conv1\", strides=(2, 2))`\n",
      "  model.add(Conv2D(48, (5, 5), subsample=(2,2), activation='relu',name='conv1'))\n",
      "/home/carnd/SelfDrivingCarND-Proj4/model.py:111: UserWarning: Update your `Conv2D` call to the Keras 2 API: `Conv2D(72, (5, 5), activation=\"relu\", name=\"conv2\", strides=(2, 2))`\n",
      "  model.add(Conv2D(72, (5, 5), subsample=(2,2), activation='relu', name='conv2'))\n",
      "/home/carnd/SelfDrivingCarND-Proj4/model.py:112: UserWarning: Update your `Conv2D` call to the Keras 2 API: `Conv2D(96, (5, 5), activation=\"relu\", name=\"conv3\", strides=(2, 2))`\n",
      "  model.add(Conv2D(96, (5, 5), subsample=(2,2), activation='relu', name='conv3'))\n"
     ]
    },
    {
     "name": "stdout",
     "output_type": "stream",
     "text": [
      "Epoch 1/10\n",
      "79/78 [==============================] - 217s 3s/step - loss: 0.0883 - val_loss: 0.0446\n",
      "Epoch 2/10\n",
      "79/78 [==============================] - 199s 3s/step - loss: 0.0459 - val_loss: 0.0400\n",
      "Epoch 3/10\n",
      "79/78 [==============================] - 198s 3s/step - loss: 0.0419 - val_loss: 0.0369\n",
      "Epoch 4/10\n",
      "79/78 [==============================] - 198s 3s/step - loss: 0.0384 - val_loss: 0.0333\n",
      "Epoch 5/10\n",
      "79/78 [==============================] - 198s 3s/step - loss: 0.0352 - val_loss: 0.0313\n",
      "Epoch 6/10\n",
      "79/78 [==============================] - 196s 2s/step - loss: 0.0323 - val_loss: 0.0297\n",
      "Epoch 7/10\n",
      "79/78 [==============================] - 198s 3s/step - loss: 0.0298 - val_loss: 0.0263\n",
      "Epoch 8/10\n",
      "79/78 [==============================] - 197s 2s/step - loss: 0.0271 - val_loss: 0.0258\n",
      "Epoch 9/10\n",
      "79/78 [==============================] - 197s 2s/step - loss: 0.0262 - val_loss: 0.0240\n",
      "Epoch 10/10\n",
      "79/78 [==============================] - 197s 2s/step - loss: 0.0246 - val_loss: 0.0230\n",
      "Model saved.\n"
     ]
    }
   ],
   "source": [
    "batch = 128\n",
    "epochs = 10\n",
    "model_name = \"model\"\n",
    "history_object = train_cnn(epochs, batch, model_name+\".h5\")"
   ]
  },
  {
   "cell_type": "code",
   "execution_count": 3,
   "metadata": {},
   "outputs": [
    {
     "name": "stdout",
     "output_type": "stream",
     "text": [
      "dict_keys(['loss', 'val_loss'])\n"
     ]
    },
    {
     "data": {
      "image/png": "[encoded data removed]",
      "text/plain": [
       "<matplotlib.figure.Figure at 0x7f3d679e22e8>"
      ]
     },
     "metadata": {},
     "output_type": "display_data"
    }
   ],
   "source": [
    "plot_loss(history_object, model_name)"
   ]
  },
  {
   "cell_type": "markdown",
   "metadata": {},
   "source": [
    "## Load saved model"
   ]
  },
  {
   "cell_type": "code",
   "execution_count": 4,
   "metadata": {},
   "outputs": [
    {
     "name": "stdout",
     "output_type": "stream",
     "text": [
      "_________________________________________________________________\n",
      "Layer (type)                 Output Shape              Param #   \n",
      "=================================================================\n",
      "lambda (Lambda)              (None, 160, 320, 3)       0         \n",
      "_________________________________________________________________\n",
      "crop (Cropping2D)            (None, 90, 320, 3)        0         \n",
      "_________________________________________________________________\n",
      "conv1 (Conv2D)               (None, 43, 158, 48)       3648      \n",
      "_________________________________________________________________\n",
      "conv2 (Conv2D)               (None, 20, 77, 72)        86472     \n",
      "_________________________________________________________________\n",
      "conv3 (Conv2D)               (None, 8, 37, 96)         172896    \n",
      "_________________________________________________________________\n",
      "conv4 (Conv2D)               (None, 6, 35, 128)        110720    \n",
      "_________________________________________________________________\n",
      "conv5 (Conv2D)               (None, 4, 33, 128)        147584    \n",
      "_________________________________________________________________\n",
      "dropout_1 (Dropout)          (None, 4, 33, 128)        0         \n",
      "_________________________________________________________________\n",
      "flatten_1 (Flatten)          (None, 16896)             0         \n",
      "_________________________________________________________________\n",
      "dense_1 (Dense)              (None, 100)               1689700   \n",
      "_________________________________________________________________\n",
      "dense_2 (Dense)              (None, 50)                5050      \n",
      "_________________________________________________________________\n",
      "dense_3 (Dense)              (None, 10)                510       \n",
      "_________________________________________________________________\n",
      "dense_4 (Dense)              (None, 1)                 11        \n",
      "=================================================================\n",
      "Total params: 2,216,591\n",
      "Trainable params: 2,216,591\n",
      "Non-trainable params: 0\n",
      "_________________________________________________________________\n"
     ]
    }
   ],
   "source": [
    "#load the saved model\n",
    "model = load_model(model_name+\".h5\")\n",
    "model.summary()"
   ]
  },
  {
   "cell_type": "markdown",
   "metadata": {},
   "source": [
    "## Read example images for CNN visualization"
   ]
  },
  {
   "cell_type": "code",
   "execution_count": 5,
   "metadata": {},
   "outputs": [
    {
     "name": "stdout",
     "output_type": "stream",
     "text": [
      "(6, 160, 320, 3)\n"
     ]
    }
   ],
   "source": [
    "#read the preview images\n",
    "img_num = 10\n",
    "images = read_preview_images(img_num)\n",
    "print(images.shape)\n",
    "for img in images:\n",
    "    img = convert_RGB(img)"
   ]
  },
  {
   "cell_type": "markdown",
   "metadata": {},
   "source": [
    "## Predict output of lambda and crop layers"
   ]
  },
  {
   "cell_type": "code",
   "execution_count": 6,
   "metadata": {},
   "outputs": [
    {
     "name": "stdout",
     "output_type": "stream",
     "text": [
      "Input array shape:  (6, 160, 320, 3)\n",
      "Norm layer output shape:  (6, 160, 320, 3)\n",
      "Crop layer output shape:  (6, 90, 320, 3)\n",
      "Predicted images saved.\n"
     ]
    }
   ],
   "source": [
    "#predict output of lambda and crop layers\n",
    "#output saved to /CNN_images/output\n",
    "\n",
    "show_lambda_crop_layers(images, model)"
   ]
  },
  {
   "cell_type": "markdown",
   "metadata": {},
   "source": [
    "## Predict output of convolutional layers"
   ]
  },
  {
   "cell_type": "code",
   "execution_count": 7,
   "metadata": {},
   "outputs": [
    {
     "name": "stdout",
     "output_type": "stream",
     "text": [
      "The conv1 layer shape is (6, 43, 158, 48) and has 48 filters\n",
      "There are 6 input images \n",
      "Combined filter image array has shape: (235, 43, 158)\n",
      "Each filter has 43 x 158\n",
      "Combined image is 3096 x 632 and has 1956672 pixels\n"
     ]
    }
   ],
   "source": [
    "#predict output of convolutional layers\n",
    "#output saved to /CNN_images/output\n",
    "\n",
    "layer_name = 'conv1'\n",
    "predict_layer_output(images, model, layer_name)"
   ]
  },
  {
   "cell_type": "code",
   "execution_count": 8,
   "metadata": {},
   "outputs": [
    {
     "name": "stdout",
     "output_type": "stream",
     "text": [
      "The conv2 layer shape is (6, 20, 77, 72) and has 72 filters\n",
      "There are 6 input images \n",
      "Combined filter image array has shape: (355, 20, 77)\n",
      "Each filter has 20 x 77\n",
      "Combined image is 2160 x 308 and has 665280 pixels\n"
     ]
    }
   ],
   "source": [
    "layer_name = 'conv2'\n",
    "predict_layer_output(images, model, layer_name)"
   ]
  },
  {
   "cell_type": "code",
   "execution_count": 9,
   "metadata": {},
   "outputs": [
    {
     "name": "stdout",
     "output_type": "stream",
     "text": [
      "The conv3 layer shape is (6, 8, 37, 96) and has 96 filters\n",
      "There are 6 input images \n",
      "Combined filter image array has shape: (475, 8, 37)\n",
      "Each filter has 8 x 37\n",
      "Combined image is 1152 x 148 and has 170496 pixels\n"
     ]
    }
   ],
   "source": [
    "layer_name = 'conv3'\n",
    "predict_layer_output(images, model, layer_name)"
   ]
  },
  {
   "cell_type": "code",
   "execution_count": 10,
   "metadata": {},
   "outputs": [
    {
     "name": "stdout",
     "output_type": "stream",
     "text": [
      "The conv4 layer shape is (6, 6, 35, 128) and has 128 filters\n",
      "There are 6 input images \n",
      "Combined filter image array has shape: (635, 6, 35)\n",
      "Each filter has 6 x 35\n",
      "Combined image is 1152 x 140 and has 161280 pixels\n"
     ]
    }
   ],
   "source": [
    "layer_name = 'conv4'\n",
    "predict_layer_output(images, model, layer_name)"
   ]
  },
  {
   "cell_type": "code",
   "execution_count": 11,
   "metadata": {},
   "outputs": [
    {
     "name": "stdout",
     "output_type": "stream",
     "text": [
      "The conv5 layer shape is (6, 4, 33, 128) and has 128 filters\n",
      "There are 6 input images \n",
      "Combined filter image array has shape: (635, 4, 33)\n",
      "Each filter has 4 x 33\n",
      "Combined image is 768 x 132 and has 101376 pixels\n"
     ]
    }
   ],
   "source": [
    "layer_name = 'conv5'\n",
    "predict_layer_output(images, model, layer_name)"
   ]
  },
  {
   "cell_type": "code",
   "execution_count": null,
   "metadata": {},
   "outputs": [],
   "source": []
  }
 ],
 "metadata": {
  "kernelspec": {
   "display_name": "Python 3",
   "language": "python",
   "name": "python3"
  },
  "language_info": {
   "codemirror_mode": {
    "name": "ipython",
    "version": 3
   },
   "file_extension": ".py",
   "mimetype": "text/x-python",
   "name": "python",
   "nbconvert_exporter": "python",
   "pygments_lexer": "ipython3",
   "version": "3.5.2"
  },
  "widgets": {
   "state": {},
   "version": "1.1.2"
  }
 },
 "nbformat": 4,
 "nbformat_minor": 2
}
